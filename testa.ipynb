{
 "cells": [
  {
   "cell_type": "markdown",
   "metadata": {},
   "source": [
    "This Notebook based on [keremberke's yolov5m license plate detector code](https://huggingface.co/keremberke/yolov5m-license-plate)"
   ]
  },
  {
   "cell_type": "code",
   "execution_count": 1,
   "metadata": {},
   "outputs": [
    {
     "name": "stdout",
     "output_type": "stream",
     "text": [
      "e:\\Code Repository\\Campus\\Big Data Analytics\\Final Project\\YOLO\\.venv\\Scripts\\python.exe\n"
     ]
    }
   ],
   "source": [
    "import sys;\n",
    "print(sys.executable);"
   ]
  },
  {
   "cell_type": "markdown",
   "metadata": {},
   "source": [
    "Currently faced issue:\n",
    "\n",
    "| No | Date | Issue |\n",
    "|---|---|---|\n",
    "| 1 | October, 16th 2023 | Running yolov5 script keep getting error `ultralytics.yolo` not found |"
   ]
  },
  {
   "cell_type": "code",
   "execution_count": 3,
   "metadata": {},
   "outputs": [
    {
     "ename": "AttributeError",
     "evalue": "'str' object has no attribute '_check_is_pytorch_model'",
     "output_type": "error",
     "traceback": [
      "\u001b[1;31m---------------------------------------------------------------------------\u001b[0m",
      "\u001b[1;31mAttributeError\u001b[0m                            Traceback (most recent call last)",
      "\u001b[1;32me:\\Code Repository\\Campus\\Big Data Analytics\\Final Project\\YOLO\\testa.ipynb Cell 2\u001b[0m line \u001b[0;36m6\n\u001b[0;32m      <a href='vscode-notebook-cell:/e%3A/Code%20Repository/Campus/Big%20Data%20Analytics/Final%20Project/YOLO/testa.ipynb#W1sZmlsZQ%3D%3D?line=0'>1</a>\u001b[0m \u001b[39mfrom\u001b[39;00m \u001b[39multralytics\u001b[39;00m \u001b[39mimport\u001b[39;00m YOLO;\n\u001b[0;32m      <a href='vscode-notebook-cell:/e%3A/Code%20Repository/Campus/Big%20Data%20Analytics/Final%20Project/YOLO/testa.ipynb#W1sZmlsZQ%3D%3D?line=2'>3</a>\u001b[0m \u001b[39m# import yolov5\u001b[39;00m\n\u001b[0;32m      <a href='vscode-notebook-cell:/e%3A/Code%20Repository/Campus/Big%20Data%20Analytics/Final%20Project/YOLO/testa.ipynb#W1sZmlsZQ%3D%3D?line=3'>4</a>\u001b[0m \n\u001b[0;32m      <a href='vscode-notebook-cell:/e%3A/Code%20Repository/Campus/Big%20Data%20Analytics/Final%20Project/YOLO/testa.ipynb#W1sZmlsZQ%3D%3D?line=4'>5</a>\u001b[0m \u001b[39m# load model\u001b[39;00m\n\u001b[1;32m----> <a href='vscode-notebook-cell:/e%3A/Code%20Repository/Campus/Big%20Data%20Analytics/Final%20Project/YOLO/testa.ipynb#W1sZmlsZQ%3D%3D?line=5'>6</a>\u001b[0m model \u001b[39m=\u001b[39m YOLO\u001b[39m.\u001b[39;49mload(\u001b[39m'\u001b[39;49m\u001b[39mkeremberke/yolov5m-license-plate\u001b[39;49m\u001b[39m'\u001b[39;49m)\n\u001b[0;32m      <a href='vscode-notebook-cell:/e%3A/Code%20Repository/Campus/Big%20Data%20Analytics/Final%20Project/YOLO/testa.ipynb#W1sZmlsZQ%3D%3D?line=7'>8</a>\u001b[0m \u001b[39m# set model parameters\u001b[39;00m\n\u001b[0;32m      <a href='vscode-notebook-cell:/e%3A/Code%20Repository/Campus/Big%20Data%20Analytics/Final%20Project/YOLO/testa.ipynb#W1sZmlsZQ%3D%3D?line=8'>9</a>\u001b[0m model\u001b[39m.\u001b[39mconf \u001b[39m=\u001b[39m \u001b[39m0.25\u001b[39m  \u001b[39m# NMS confidence threshold\u001b[39;00m\n",
      "File \u001b[1;32me:\\Code Repository\\Campus\\Big Data Analytics\\Final Project\\YOLO\\.venv\\Lib\\site-packages\\ultralytics\\engine\\model.py:185\u001b[0m, in \u001b[0;36mModel.load\u001b[1;34m(self, weights)\u001b[0m\n\u001b[0;32m    183\u001b[0m \u001b[39mdef\u001b[39;00m \u001b[39mload\u001b[39m(\u001b[39mself\u001b[39m, weights\u001b[39m=\u001b[39m\u001b[39m'\u001b[39m\u001b[39myolov8n.pt\u001b[39m\u001b[39m'\u001b[39m):\n\u001b[0;32m    184\u001b[0m \u001b[39m    \u001b[39m\u001b[39m\"\"\"Transfers parameters with matching names and shapes from 'weights' to model.\"\"\"\u001b[39;00m\n\u001b[1;32m--> 185\u001b[0m     \u001b[39mself\u001b[39;49m\u001b[39m.\u001b[39;49m_check_is_pytorch_model()\n\u001b[0;32m    186\u001b[0m     \u001b[39mif\u001b[39;00m \u001b[39misinstance\u001b[39m(weights, (\u001b[39mstr\u001b[39m, Path)):\n\u001b[0;32m    187\u001b[0m         weights, \u001b[39mself\u001b[39m\u001b[39m.\u001b[39mckpt \u001b[39m=\u001b[39m attempt_load_one_weight(weights)\n",
      "\u001b[1;31mAttributeError\u001b[0m: 'str' object has no attribute '_check_is_pytorch_model'"
     ]
    }
   ],
   "source": [
    "from ultralytics import YOLO;\n",
    "\n",
    "# import yolov5\n",
    "\n",
    "# load model\n",
    "model = YOLO.load('keremberke/yolov5m-license-plate')\n",
    "  \n",
    "# set model parameters\n",
    "model.conf = 0.25  # NMS confidence threshold\n",
    "model.iou = 0.45  # NMS IoU threshold\n",
    "model.agnostic = False  # NMS class-agnostic\n",
    "model.multi_label = False  # NMS multiple labels per box\n",
    "model.max_det = 1000  # maximum number of detections per image\n",
    "\n",
    "# set image\n",
    "img = 'https://github.com/ultralytics/yolov5/raw/master/data/images/zidane.jpg'\n",
    "\n",
    "# perform inference\n",
    "results = model(img, size=640)\n",
    "\n",
    "# inference with test time augmentation\n",
    "results = model(img, augment=True)\n",
    "\n",
    "# parse results\n",
    "predictions = results.pred[0]\n",
    "boxes = predictions[:, :4] # x1, y1, x2, y2\n",
    "scores = predictions[:, 4]\n",
    "categories = predictions[:, 5]\n",
    "\n",
    "# show detection bounding boxes on image\n",
    "results.show()\n",
    "\n",
    "# save results into \"results/\" folder\n",
    "results.save(save_dir='results/')"
   ]
  },
  {
   "cell_type": "markdown",
   "metadata": {},
   "source": [
    "Script to run the training session:\n",
    "\n",
    "```shell\n",
    "yolov5 train --data data.yaml --img 640 --batch 16 --weights keremberke/yolov5m-license-plate --epochs 10\n",
    "```"
   ]
  }
 ],
 "metadata": {
  "kernelspec": {
   "display_name": ".venv",
   "language": "python",
   "name": "python3"
  },
  "language_info": {
   "codemirror_mode": {
    "name": "ipython",
    "version": 3
   },
   "file_extension": ".py",
   "mimetype": "text/x-python",
   "name": "python",
   "nbconvert_exporter": "python",
   "pygments_lexer": "ipython3",
   "version": "3.11.5"
  },
  "orig_nbformat": 4
 },
 "nbformat": 4,
 "nbformat_minor": 2
}
